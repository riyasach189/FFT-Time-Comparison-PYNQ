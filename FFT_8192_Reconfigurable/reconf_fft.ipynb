{
 "cells": [
  {
   "cell_type": "code",
   "execution_count": 1,
   "metadata": {},
   "outputs": [
    {
     "data": {
      "application/javascript": [
       "\n",
       "require(['notebook/js/codecell'], function(codecell) {\n",
       "  codecell.CodeCell.options_default.highlight_modes[\n",
       "      'magic_text/x-csrc'] = {'reg':[/^%%microblaze/]};\n",
       "  Jupyter.notebook.events.one('kernel_ready.Kernel', function(){\n",
       "      Jupyter.notebook.get_cells().map(function(cell){\n",
       "          if (cell.cell_type == 'code'){ cell.auto_highlight(); } }) ;\n",
       "  });\n",
       "});\n"
      ]
     },
     "metadata": {},
     "output_type": "display_data"
    }
   ],
   "source": [
    "from pynq import Overlay\n",
    "from math import log\n",
    "import time\n",
    "import numpy as np\n",
    "import matplotlib.pyplot as plt\n",
    "import ipywidgets as widgets\n",
    "from pynq import allocate"
   ]
  },
  {
   "cell_type": "code",
   "execution_count": 2,
   "metadata": {},
   "outputs": [],
   "source": [
    "ol = Overlay(\"reconfig_fft.bit\")"
   ]
  },
  {
   "cell_type": "code",
   "execution_count": 3,
   "metadata": {},
   "outputs": [],
   "source": [
    "# ol?"
   ]
  },
  {
   "cell_type": "code",
   "execution_count": 4,
   "metadata": {},
   "outputs": [],
   "source": [
    "data_dma = ol.fft_block.data_dma\n",
    "config_dma = ol.fft_block.config_dma"
   ]
  },
  {
   "cell_type": "code",
   "execution_count": 5,
   "metadata": {},
   "outputs": [],
   "source": [
    "data_send = data_dma.sendchannel\n",
    "data_recv = data_dma.recvchannel\n",
    "conf_send = config_dma.sendchannel"
   ]
  },
  {
   "cell_type": "markdown",
   "metadata": {},
   "source": [
    "# Create Configuration"
   ]
  },
  {
   "cell_type": "markdown",
   "metadata": {},
   "source": [
    "PAD 00000\n",
    "FWD/INV 001\n",
    "PAD 0\n",
    "CP_LEN 0000000\n",
    "PAD 000\n",
    "NFFT 01010"
   ]
  },
  {
   "cell_type": "code",
   "execution_count": 6,
   "metadata": {},
   "outputs": [],
   "source": [
    "# Pad all values till they are multiples of 8 bits\n",
    "# Last 5 bits select FFT size (for 1024 or 2^10 point fft we need to set the value to 10)\n",
    "# We can set the values for the second last byte as all 0\n",
    "# MSByte sets the IP as FFT or IFFT. We set its value to 1 as we only have 1 channel.\n",
    "\n",
    "def convert_to_data(fft_direction, size):\n",
    "    fft_direction.zfill(8)       # 011 -> 00000011\n",
    "    byte2 = '0'*8\n",
    "\n",
    "    x = int(log(size, 2))\n",
    "    fft_size = bin(x)[2:]    # Converts the integer x to its binary representation and strips off the '0b' prefix\n",
    "\n",
    "    fft_size.zfill(8)\n",
    "\n",
    "    tdata = fft_direction + byte2 + fft_size\n",
    "\n",
    "    return int(tdata,2)     # Converts the binary string tdata to an integer using base 2\n",
    "\n",
    "# int is a 4 byte (32 bit) value"
   ]
  },
  {
   "cell_type": "markdown",
   "metadata": {},
   "source": [
    "# Create Data"
   ]
  },
  {
   "cell_type": "code",
   "execution_count": 7,
   "metadata": {},
   "outputs": [],
   "source": [
    "f1 = widgets.FloatSlider(min = 10, max = 50, step = 1, description = \"f1\", value=10)\n",
    "f2 = widgets.FloatSlider(min = 10, max = 50, step = 1, description = \"f2\", value=30)\n",
    "f3 = widgets.FloatSlider(min = 10, max = 50, step = 1, description = \"f3\", value=50)\n",
    "A1 = widgets.FloatSlider(min = 100, max = 200, step = 1, description = \"A1\", value=100)\n",
    "A2 = widgets.FloatSlider(min = 100, max = 200, step = 1, description = \"A2\", value=150)\n",
    "A3 = widgets.FloatSlider(min = 100, max = 200, step = 1, description = \"A3\", value=200)\n",
    "c1 = widgets.Checkbox(value=True, description=\"PS Implementation\")\n",
    "c2 = widgets.Checkbox(value=True, description=\"PL Implementation\")\n",
    "samples = widgets.Dropdown(options=[64, 128, 256, 512, 1024, 2048, 4096, 8192], value=8192, description='samples')\n",
    "T = 1"
   ]
  },
  {
   "cell_type": "code",
   "execution_count": 8,
   "metadata": {},
   "outputs": [],
   "source": [
    "def create_data(A1, A2, A3, f1, f2, f3, samples):\n",
    "    t = np.linspace(0, T, samples)\n",
    "    data = A1*np.sin(2*np.pi*f1*t) + A2*np.sin(2*np.pi*f2*t) + A3*np.sin(2*np.pi*f3*t)\n",
    "    return data, t\n",
    "\n",
    "def plot_graph(data, t):\n",
    "    plt.plot(t, np.abs(data), label = \"Input Data\")\n",
    "    plt.xlabel('Time (s)')\n",
    "    plt.ylabel('Absolute Value')\n",
    "    plt.legend()\n",
    "    plt.show()"
   ]
  },
  {
   "cell_type": "markdown",
   "metadata": {},
   "source": [
    "# FFT function with options for PS PL Implementation"
   ]
  },
  {
   "cell_type": "code",
   "execution_count": 9,
   "metadata": {},
   "outputs": [],
   "source": [
    "def plot_fft(A1, A2, A3, f1, f2, f3, samples, ps, pl):\n",
    "    data, t = create_data(A1, A2, A3, f1, f2, f3, samples)\n",
    "    plot_graph(data, t)\n",
    "    freq = np.fft.fftshift(np.fft.fftfreq(samples, T/samples))\n",
    "    \n",
    "    if ps:\n",
    "        st = time.time()\n",
    "        ps_output = np.abs(np.fft.fft(data, samples)) / samples\n",
    "        et = time.time()\n",
    "        \n",
    "        print(\"PS Execution Time: \" + str(et - st))\n",
    "        \n",
    "        ps_output_shifted = np.fft.fftshift(ps_output)\n",
    "        plt.plot(freq, ps_output_shifted, label='PS Output')\n",
    "        \n",
    "    if pl:\n",
    "        conf_buffer = allocate(1, np.uint32)\n",
    "        conf_buffer[0] = convert_to_data('1', samples)\n",
    "        \n",
    "        input_buffer = allocate(samples, np.csingle)\n",
    "        output_buffer = allocate(samples, np.csingle)\n",
    "        np.copyto(input_buffer, data)\n",
    "        \n",
    "        st = time.time()\n",
    "        conf_send.transfer(conf_buffer)\n",
    "        conf_send.wait()\n",
    "        \n",
    "        data_send.transfer(input_buffer)\n",
    "        data_recv.transfer(output_buffer)\n",
    "        data_send.wait()\n",
    "        data_recv.wait()\n",
    "        et = time.time()\n",
    "        \n",
    "        print(\"PL Execution Time: \" + str(et - st))\n",
    "        \n",
    "        pl_output_shifted = np.fft.fftshift(np.abs(output_buffer) / samples)\n",
    "        plt.plot(freq, pl_output_shifted, label='PL Output')\n",
    "        \n",
    "    plt.xlabel('Frequency (Hz)')\n",
    "    plt.ylabel('Magnitude')\n",
    "    plt.legend()\n",
    "    plt.show()\n",
    "        \n",
    "    if ps and pl:\n",
    "        plt.figure()\n",
    "        plt.plot(freq, np.abs(ps_output_shifted - pl_output_shifted), label='Difference')\n",
    "        plt.xlabel('Frequency (Hz)')\n",
    "        plt.ylabel('Magnitude')\n",
    "        plt.legend()\n",
    "        plt.show()"
   ]
  },
  {
   "cell_type": "code",
   "execution_count": 10,
   "metadata": {},
   "outputs": [
    {
     "data": {
      "application/vnd.jupyter.widget-view+json": {
       "model_id": "b448288f73074d3f868f910ea65e3c6e",
       "version_major": 2,
       "version_minor": 0
      },
      "text/plain": [
       "interactive(children=(FloatSlider(value=100.0, description='A1', max=200.0, min=100.0, step=1.0), FloatSlider(…"
      ]
     },
     "metadata": {},
     "output_type": "display_data"
    },
    {
     "data": {
      "text/plain": [
       "<function __main__.plot_fft>"
      ]
     },
     "execution_count": 10,
     "metadata": {},
     "output_type": "execute_result"
    }
   ],
   "source": [
    "widgets.interact_manual(plot_fft, A1=A1, A2=A2, A3=A3, f1=f1, f2=f2, f3=f3, samples=samples, ps=c1, pl=c2)"
   ]
  },
  {
   "cell_type": "code",
   "execution_count": null,
   "metadata": {},
   "outputs": [],
   "source": []
  }
 ],
 "metadata": {
  "kernelspec": {
   "display_name": "Python 3",
   "language": "python",
   "name": "python3"
  },
  "language_info": {
   "codemirror_mode": {
    "name": "ipython",
    "version": 3
   },
   "file_extension": ".py",
   "mimetype": "text/x-python",
   "name": "python",
   "nbconvert_exporter": "python",
   "pygments_lexer": "ipython3",
   "version": "3.6.5"
  }
 },
 "nbformat": 4,
 "nbformat_minor": 4
}
