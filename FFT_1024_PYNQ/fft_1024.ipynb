{
 "cells": [
  {
   "cell_type": "markdown",
   "metadata": {},
   "source": [
    "# Importing Overlay and checking available IPs"
   ]
  },
  {
   "cell_type": "code",
   "execution_count": 12,
   "metadata": {},
   "outputs": [],
   "source": [
    "from pynq import Overlay, allocate\n",
    "import ipywidgets as widgets\n",
    "import numpy as np\n",
    "import matplotlib.pyplot as plt\n",
    "import time\n",
    "#from scipy.signal import find_peaks"
   ]
  },
  {
   "cell_type": "code",
   "execution_count": 13,
   "metadata": {},
   "outputs": [],
   "source": [
    "ol = Overlay(\"fft_1024.bit\")"
   ]
  },
  {
   "cell_type": "code",
   "execution_count": 14,
   "metadata": {},
   "outputs": [],
   "source": [
    "# ol?"
   ]
  },
  {
   "cell_type": "code",
   "execution_count": 15,
   "metadata": {},
   "outputs": [],
   "source": [
    "data_channel = ol.axi_dma_0"
   ]
  },
  {
   "cell_type": "code",
   "execution_count": 16,
   "metadata": {},
   "outputs": [],
   "source": [
    "# data_channel?"
   ]
  },
  {
   "cell_type": "markdown",
   "metadata": {},
   "source": [
    "# Create Sliders for Amplitude and Frequency"
   ]
  },
  {
   "cell_type": "code",
   "execution_count": 17,
   "metadata": {},
   "outputs": [],
   "source": [
    "f1 = widgets.FloatSlider(min = 10, max = 50, step = 1, description = \"f1\")\n",
    "f2 = widgets.FloatSlider(min = 10, max = 50, step = 1, description = \"f2\")\n",
    "f3 = widgets.FloatSlider(min = 10, max = 50, step = 1, description = \"f3\")\n",
    "A1 = widgets.FloatSlider(min = 100, max = 200, step = 1, description = \"A1\")\n",
    "A2 = widgets.FloatSlider(min = 100, max = 200, step = 1, description = \"A2\")\n",
    "A3 = widgets.FloatSlider(min = 100, max = 200, step = 1, description = \"A3\")\n",
    "samples = 1024\n",
    "T = 1"
   ]
  },
  {
   "cell_type": "code",
   "execution_count": 18,
   "metadata": {},
   "outputs": [],
   "source": [
    "def create_data(A1, A2, A3, f1, f2, f3):\n",
    "    T = 1\n",
    "    samples = 1024\n",
    "    t = np.linspace(0, T, samples)\n",
    "    data = A1*np.sin(2*np.pi*f1*t) + A2*np.sin(2*np.pi*f2*t) + A3*np.sin(2*np.pi*f3*t)\n",
    "    return data, t\n",
    "\n",
    "def plot_graph(A1, A2, A3, f1, f2, f3):\n",
    "    data, t = create_data(A1, A2, A3, f1, f2, f3)\n",
    "    plt.plot(t, np.abs(data), label = \"Input Data\")\n",
    "    plt.xlabel('Time (s)')\n",
    "    plt.ylabel('Absolute Value')\n",
    "    plt.legend()\n",
    "    plt.show()"
   ]
  },
  {
   "cell_type": "code",
   "execution_count": 19,
   "metadata": {},
   "outputs": [
    {
     "data": {
      "application/vnd.jupyter.widget-view+json": {
       "model_id": "a03f5792aa87454fa2c1082e739c81e6",
       "version_major": 2,
       "version_minor": 0
      },
      "text/plain": [
       "interactive(children=(FloatSlider(value=100.0, description='A1', max=200.0, min=100.0, step=1.0), FloatSlider(…"
      ]
     },
     "metadata": {},
     "output_type": "display_data"
    },
    {
     "data": {
      "text/plain": [
       "<function __main__.plot_graph>"
      ]
     },
     "execution_count": 19,
     "metadata": {},
     "output_type": "execute_result"
    }
   ],
   "source": [
    "widgets.interact_manual(plot_graph, A1=A1, A2=A2, A3=A3, f1=f1, f2=f2, f3=f3)"
   ]
  },
  {
   "cell_type": "markdown",
   "metadata": {},
   "source": [
    "# FFT function with options for PS PL Implementation"
   ]
  },
  {
   "cell_type": "code",
   "execution_count": 20,
   "metadata": {},
   "outputs": [],
   "source": [
    "def plot_fft(A1, A2, A3, f1, f2, f3, ps, pl):\n",
    "    data, t = create_data(A1, A2, A3, f1, f2, f3)\n",
    "    freq = np.fft.fftshift(np.fft.fftfreq(samples,T/samples))\n",
    "    \n",
    "    if ps:\n",
    "        st = time.time()\n",
    "        ps_output = np.abs(np.fft.fft(data, samples)) / samples\n",
    "        et = time.time()\n",
    "        \n",
    "        print(\"PS Execution Time: \" + str(et - st))\n",
    "        \n",
    "        ps_output_shifted = np.fft.fftshift(ps_output)\n",
    "        plt.plot(freq, ps_output_shifted, label='PS Output')\n",
    "        \n",
    "    if pl:\n",
    "        input_buffer = allocate(1024, np.csingle)\n",
    "        output_buffer = allocate(1024,np.csingle)\n",
    "        np.copyto(input_buffer, data)\n",
    "        \n",
    "        st = time.time()\n",
    "        data_channel.sendchannel.transfer(input_buffer)\n",
    "        data_channel.recvchannel.transfer(output_buffer)\n",
    "        data_channel.sendchannel.wait()\n",
    "        data_channel.recvchannel.wait()\n",
    "        et = time.time()\n",
    "        \n",
    "        print(\"PL Execution Time: \" + str(et - st))\n",
    "        \n",
    "        pl_output_shifted = np.fft.fftshift(np.abs(output_buffer) / samples)\n",
    "        plt.plot(freq, pl_output_shifted, label='PL Output')\n",
    "        \n",
    "    plt.xlabel('Frequency (Hz)')\n",
    "    plt.ylabel('Magnitude')\n",
    "    plt.legend()\n",
    "    plt.show()"
   ]
  },
  {
   "cell_type": "code",
   "execution_count": 21,
   "metadata": {},
   "outputs": [],
   "source": [
    "c1 = widgets.Checkbox(value=True, description=\"PS Implementation\")\n",
    "c2 = widgets.Checkbox(value=True, description=\"PL Implementation\")"
   ]
  },
  {
   "cell_type": "code",
   "execution_count": 22,
   "metadata": {},
   "outputs": [
    {
     "data": {
      "application/vnd.jupyter.widget-view+json": {
       "model_id": "51152f61e8404dcfa12c465469a8ef9f",
       "version_major": 2,
       "version_minor": 0
      },
      "text/plain": [
       "interactive(children=(FloatSlider(value=100.0, description='A1', max=200.0, min=100.0, step=1.0), FloatSlider(…"
      ]
     },
     "metadata": {},
     "output_type": "display_data"
    },
    {
     "data": {
      "text/plain": [
       "<function __main__.plot_fft>"
      ]
     },
     "execution_count": 22,
     "metadata": {},
     "output_type": "execute_result"
    }
   ],
   "source": [
    "widgets.interact_manual(plot_fft, A1=A1, A2=A2, A3=A3, f1=f1, f2=f2, f3=f3, ps=c1, pl=c2)"
   ]
  }
 ],
 "metadata": {
  "kernelspec": {
   "display_name": "Python 3",
   "language": "python",
   "name": "python3"
  },
  "language_info": {
   "codemirror_mode": {
    "name": "ipython",
    "version": 3
   },
   "file_extension": ".py",
   "mimetype": "text/x-python",
   "name": "python",
   "nbconvert_exporter": "python",
   "pygments_lexer": "ipython3",
   "version": "3.6.5"
  }
 },
 "nbformat": 4,
 "nbformat_minor": 4
}
